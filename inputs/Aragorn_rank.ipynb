{
 "cells": [
  {
   "cell_type": "code",
   "execution_count": 2,
   "id": "4d003119",
   "metadata": {},
   "outputs": [],
   "source": [
    "import requests\n",
    "import json\n",
    "import os"
   ]
  },
  {
   "cell_type": "code",
   "execution_count": 3,
   "id": "fd74497e",
   "metadata": {},
   "outputs": [],
   "source": [
    "def get_scores(indir):\n",
    "    with open(f'{indir}/result.json','r') as inf:\n",
    "        message = json.load(inf)\n",
    "    message['workflow'] = [{\"id\":\"overlay_connect_knodes\"},{\"id\":\"score\"}]\n",
    "    qurl = 'http://aragorn-dev.apps.renci.org/1.2/query'\n",
    "    results = requests.post(qurl,json=message)\n",
    "    j = results.json()\n",
    "    outdir = f'{indir}/rankings/ranking_agent'\n",
    "    if not os.path.exists(outdir):\n",
    "        os.makedirs(outdir)\n",
    "    with open(f'{outdir}/result.json','w') as outf:\n",
    "        json.dump(j,outf,indent=4)"
   ]
  },
  {
   "cell_type": "code",
   "execution_count": 16,
   "id": "c15d5812",
   "metadata": {},
   "outputs": [],
   "source": [
    "get_scores('clinical_DCP')"
   ]
  },
  {
   "cell_type": "code",
   "execution_count": 17,
   "id": "c8422161",
   "metadata": {},
   "outputs": [],
   "source": [
    "get_scores('genes_genetically_associated_to_asthma')"
   ]
  },
  {
   "cell_type": "code",
   "execution_count": 18,
   "id": "c07d15d0",
   "metadata": {},
   "outputs": [],
   "source": [
    "get_scores('treats_hyperlipidemia')"
   ]
  },
  {
   "cell_type": "code",
   "execution_count": 4,
   "id": "6743d090",
   "metadata": {},
   "outputs": [],
   "source": [
    "get_scores('two_hop_acromegaly')"
   ]
  },
  {
   "cell_type": "code",
   "execution_count": null,
   "id": "daa6ccd0",
   "metadata": {},
   "outputs": [],
   "source": []
  }
 ],
 "metadata": {
  "kernelspec": {
   "display_name": "Python 3 (ipykernel)",
   "language": "python",
   "name": "python3"
  },
  "language_info": {
   "codemirror_mode": {
    "name": "ipython",
    "version": 3
   },
   "file_extension": ".py",
   "mimetype": "text/x-python",
   "name": "python",
   "nbconvert_exporter": "python",
   "pygments_lexer": "ipython3",
   "version": "3.8.12"
  }
 },
 "nbformat": 4,
 "nbformat_minor": 5
}
